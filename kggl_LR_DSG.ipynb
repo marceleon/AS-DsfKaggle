{
 "cells": [
  {
   "cell_type": "markdown",
   "metadata": {},
   "source": [
    "# Grupo The BlackTeam #\n",
    "\n",
    "### Integrantes:\n",
    "* Mario Agustin Sgro\n",
    "* Juan Manuel Villarreal\n",
    "* Marcelo Leon"
   ]
  },
  {
   "cell_type": "markdown",
   "metadata": {},
   "source": [
    "#### En este Notebook se probarán las opciones de Regresión Logística y DSG"
   ]
  },
  {
   "cell_type": "code",
   "execution_count": 182,
   "metadata": {},
   "outputs": [],
   "source": [
    "#Librerías...\n",
    "import pandas as pd\n",
    "import numpy as np \n",
    "\n",
    "from sklearn.model_selection import train_test_split\n",
    "from sklearn.metrics import accuracy_score, classification_report, confusion_matrix\n",
    "from sklearn.model_selection import GridSearchCV\n",
    "from sklearn.preprocessing import StandardScaler, MinMaxScaler \n",
    "from sklearn.tree import DecisionTreeClassifier\n",
    "from sklearn.linear_model import LogisticRegression, LogisticRegressionCV\n",
    "from sklearn.linear_model import SGDClassifier\n",
    "\n",
    "from sklearn import preprocessing\n",
    "\n",
    "from ml.visualization import plot_confusion_matrix\n",
    "\n",
    "#------------------------------------------------------------\n",
    "import warnings\n",
    "warnings.filterwarnings(\"ignore\")\n"
   ]
  },
  {
   "cell_type": "code",
   "execution_count": 183,
   "metadata": {},
   "outputs": [],
   "source": [
    "#Importo datos\n",
    "dtset_tst=pd.read_csv('./data/test.csv')\n",
    "dtset_trn=pd.read_csv('./data/train.csv')\n",
    "dtset_breed=pd.read_csv('./data/breed_labels.csv')\n",
    "dtset_color=pd.read_csv('./data/color_labels.csv')\n",
    "dtset_state=pd.read_csv('./data/state_labels.csv')"
   ]
  },
  {
   "cell_type": "code",
   "execution_count": 184,
   "metadata": {},
   "outputs": [
    {
     "name": "stdout",
     "output_type": "stream",
     "text": [
      "Infor provista: test.csv\n",
      " --Filas: 4411\n",
      " --Cols : 19\n",
      "Atributos: Index(['Type', 'Age', 'Breed1', 'Breed2', 'Gender', 'Color1', 'Color2',\n",
      "       'Color3', 'MaturitySize', 'FurLength', 'Vaccinated', 'Dewormed',\n",
      "       'Sterilized', 'Health', 'Quantity', 'Fee', 'State', 'Description',\n",
      "       'PID'],\n",
      "      dtype='object')\n"
     ]
    }
   ],
   "source": [
    "print('Infor provista: test.csv')\n",
    "print(' --Filas:',dtset_tst.shape[0])\n",
    "print(' --Cols :',dtset_tst.shape[1])\n",
    "print('Atributos:', dtset_tst.columns)"
   ]
  },
  {
   "cell_type": "code",
   "execution_count": 185,
   "metadata": {},
   "outputs": [
    {
     "data": {
      "text/html": [
       "<div>\n",
       "<style scoped>\n",
       "    .dataframe tbody tr th:only-of-type {\n",
       "        vertical-align: middle;\n",
       "    }\n",
       "\n",
       "    .dataframe tbody tr th {\n",
       "        vertical-align: top;\n",
       "    }\n",
       "\n",
       "    .dataframe thead th {\n",
       "        text-align: right;\n",
       "    }\n",
       "</style>\n",
       "<table border=\"1\" class=\"dataframe\">\n",
       "  <thead>\n",
       "    <tr style=\"text-align: right;\">\n",
       "      <th></th>\n",
       "      <th>Type</th>\n",
       "      <th>Age</th>\n",
       "      <th>Breed1</th>\n",
       "      <th>Breed2</th>\n",
       "      <th>Gender</th>\n",
       "      <th>Color1</th>\n",
       "      <th>Color2</th>\n",
       "      <th>Color3</th>\n",
       "      <th>MaturitySize</th>\n",
       "      <th>FurLength</th>\n",
       "      <th>Vaccinated</th>\n",
       "      <th>Dewormed</th>\n",
       "      <th>Sterilized</th>\n",
       "      <th>Health</th>\n",
       "      <th>Quantity</th>\n",
       "      <th>Fee</th>\n",
       "      <th>State</th>\n",
       "      <th>Description</th>\n",
       "      <th>PID</th>\n",
       "    </tr>\n",
       "  </thead>\n",
       "  <tbody>\n",
       "    <tr>\n",
       "      <th>326</th>\n",
       "      <td>1</td>\n",
       "      <td>1</td>\n",
       "      <td>218</td>\n",
       "      <td>307</td>\n",
       "      <td>2</td>\n",
       "      <td>1</td>\n",
       "      <td>2</td>\n",
       "      <td>0</td>\n",
       "      <td>2</td>\n",
       "      <td>2</td>\n",
       "      <td>1</td>\n",
       "      <td>3</td>\n",
       "      <td>2</td>\n",
       "      <td>1</td>\n",
       "      <td>1</td>\n",
       "      <td>0</td>\n",
       "      <td>41326</td>\n",
       "      <td>Lovely puppy looking for a home sweet home. Co...</td>\n",
       "      <td>1103</td>\n",
       "    </tr>\n",
       "    <tr>\n",
       "      <th>885</th>\n",
       "      <td>2</td>\n",
       "      <td>1</td>\n",
       "      <td>292</td>\n",
       "      <td>0</td>\n",
       "      <td>2</td>\n",
       "      <td>2</td>\n",
       "      <td>6</td>\n",
       "      <td>7</td>\n",
       "      <td>1</td>\n",
       "      <td>2</td>\n",
       "      <td>2</td>\n",
       "      <td>2</td>\n",
       "      <td>2</td>\n",
       "      <td>1</td>\n",
       "      <td>1</td>\n",
       "      <td>0</td>\n",
       "      <td>41324</td>\n",
       "      <td>Icy Blue eyes, Siamese breed cat looking for f...</td>\n",
       "      <td>2956</td>\n",
       "    </tr>\n",
       "    <tr>\n",
       "      <th>3821</th>\n",
       "      <td>1</td>\n",
       "      <td>2</td>\n",
       "      <td>307</td>\n",
       "      <td>0</td>\n",
       "      <td>2</td>\n",
       "      <td>5</td>\n",
       "      <td>0</td>\n",
       "      <td>0</td>\n",
       "      <td>2</td>\n",
       "      <td>1</td>\n",
       "      <td>1</td>\n",
       "      <td>1</td>\n",
       "      <td>1</td>\n",
       "      <td>1</td>\n",
       "      <td>1</td>\n",
       "      <td>0</td>\n",
       "      <td>41326</td>\n",
       "      <td>Kindly give this pup a place called home 🏡 and...</td>\n",
       "      <td>13043</td>\n",
       "    </tr>\n",
       "    <tr>\n",
       "      <th>1892</th>\n",
       "      <td>1</td>\n",
       "      <td>7</td>\n",
       "      <td>307</td>\n",
       "      <td>0</td>\n",
       "      <td>2</td>\n",
       "      <td>1</td>\n",
       "      <td>2</td>\n",
       "      <td>7</td>\n",
       "      <td>2</td>\n",
       "      <td>2</td>\n",
       "      <td>2</td>\n",
       "      <td>1</td>\n",
       "      <td>2</td>\n",
       "      <td>1</td>\n",
       "      <td>2</td>\n",
       "      <td>0</td>\n",
       "      <td>41326</td>\n",
       "      <td>hello, saya ingin mencari adopter atau fostere...</td>\n",
       "      <td>6434</td>\n",
       "    </tr>\n",
       "    <tr>\n",
       "      <th>2651</th>\n",
       "      <td>1</td>\n",
       "      <td>48</td>\n",
       "      <td>205</td>\n",
       "      <td>307</td>\n",
       "      <td>1</td>\n",
       "      <td>5</td>\n",
       "      <td>0</td>\n",
       "      <td>0</td>\n",
       "      <td>1</td>\n",
       "      <td>2</td>\n",
       "      <td>1</td>\n",
       "      <td>1</td>\n",
       "      <td>1</td>\n",
       "      <td>1</td>\n",
       "      <td>1</td>\n",
       "      <td>0</td>\n",
       "      <td>41401</td>\n",
       "      <td>Billy is a mixed shih tzu..He's sorta like a l...</td>\n",
       "      <td>9192</td>\n",
       "    </tr>\n",
       "  </tbody>\n",
       "</table>\n",
       "</div>"
      ],
      "text/plain": [
       "      Type  Age  Breed1  Breed2  Gender  Color1  Color2  Color3  MaturitySize  \\\n",
       "326      1    1     218     307       2       1       2       0             2   \n",
       "885      2    1     292       0       2       2       6       7             1   \n",
       "3821     1    2     307       0       2       5       0       0             2   \n",
       "1892     1    7     307       0       2       1       2       7             2   \n",
       "2651     1   48     205     307       1       5       0       0             1   \n",
       "\n",
       "      FurLength  Vaccinated  Dewormed  Sterilized  Health  Quantity  Fee  \\\n",
       "326           2           1         3           2       1         1    0   \n",
       "885           2           2         2           2       1         1    0   \n",
       "3821          1           1         1           1       1         1    0   \n",
       "1892          2           2         1           2       1         2    0   \n",
       "2651          2           1         1           1       1         1    0   \n",
       "\n",
       "      State                                        Description    PID  \n",
       "326   41326  Lovely puppy looking for a home sweet home. Co...   1103  \n",
       "885   41324  Icy Blue eyes, Siamese breed cat looking for f...   2956  \n",
       "3821  41326  Kindly give this pup a place called home 🏡 and...  13043  \n",
       "1892  41326  hello, saya ingin mencari adopter atau fostere...   6434  \n",
       "2651  41401  Billy is a mixed shih tzu..He's sorta like a l...   9192  "
      ]
     },
     "execution_count": 185,
     "metadata": {},
     "output_type": "execute_result"
    }
   ],
   "source": [
    "dtset_tst.sample(5)"
   ]
  },
  {
   "cell_type": "code",
   "execution_count": 186,
   "metadata": {},
   "outputs": [
    {
     "name": "stdout",
     "output_type": "stream",
     "text": [
      "Infor provista: breed_labels.csv\n",
      " --Filas: 307\n",
      " --Cols : 3\n",
      "Atributos: Index(['BreedID', 'Type', 'BreedName'], dtype='object')\n"
     ]
    }
   ],
   "source": [
    "print('Infor provista: breed_labels.csv')\n",
    "print(' --Filas:',dtset_breed.shape[0])\n",
    "print(' --Cols :',dtset_breed.shape[1])\n",
    "print('Atributos:', dtset_breed.columns)"
   ]
  },
  {
   "cell_type": "code",
   "execution_count": 187,
   "metadata": {},
   "outputs": [
    {
     "data": {
      "text/html": [
       "<div>\n",
       "<style scoped>\n",
       "    .dataframe tbody tr th:only-of-type {\n",
       "        vertical-align: middle;\n",
       "    }\n",
       "\n",
       "    .dataframe tbody tr th {\n",
       "        vertical-align: top;\n",
       "    }\n",
       "\n",
       "    .dataframe thead th {\n",
       "        text-align: right;\n",
       "    }\n",
       "</style>\n",
       "<table border=\"1\" class=\"dataframe\">\n",
       "  <thead>\n",
       "    <tr style=\"text-align: right;\">\n",
       "      <th></th>\n",
       "      <th>BreedID</th>\n",
       "      <th>Type</th>\n",
       "      <th>BreedName</th>\n",
       "    </tr>\n",
       "  </thead>\n",
       "  <tbody>\n",
       "    <tr>\n",
       "      <th>82</th>\n",
       "      <td>83</td>\n",
       "      <td>1</td>\n",
       "      <td>English Cocker Spaniel</td>\n",
       "    </tr>\n",
       "    <tr>\n",
       "      <th>264</th>\n",
       "      <td>264</td>\n",
       "      <td>2</td>\n",
       "      <td>Domestic Long Hair</td>\n",
       "    </tr>\n",
       "    <tr>\n",
       "      <th>4</th>\n",
       "      <td>5</td>\n",
       "      <td>1</td>\n",
       "      <td>Akita</td>\n",
       "    </tr>\n",
       "    <tr>\n",
       "      <th>262</th>\n",
       "      <td>262</td>\n",
       "      <td>2</td>\n",
       "      <td>Dilute Calico</td>\n",
       "    </tr>\n",
       "    <tr>\n",
       "      <th>291</th>\n",
       "      <td>291</td>\n",
       "      <td>2</td>\n",
       "      <td>Selkirk Rex</td>\n",
       "    </tr>\n",
       "  </tbody>\n",
       "</table>\n",
       "</div>"
      ],
      "text/plain": [
       "     BreedID  Type               BreedName\n",
       "82        83     1  English Cocker Spaniel\n",
       "264      264     2      Domestic Long Hair\n",
       "4          5     1                   Akita\n",
       "262      262     2           Dilute Calico\n",
       "291      291     2             Selkirk Rex"
      ]
     },
     "execution_count": 187,
     "metadata": {},
     "output_type": "execute_result"
    }
   ],
   "source": [
    "dtset_breed.sample(5)"
   ]
  },
  {
   "cell_type": "code",
   "execution_count": 188,
   "metadata": {},
   "outputs": [
    {
     "name": "stdout",
     "output_type": "stream",
     "text": [
      "Infor provista: color_labels.csv\n",
      " --Filas: 7\n",
      " --Cols : 2\n",
      "Atributos: Index(['ColorID', 'ColorName'], dtype='object')\n"
     ]
    }
   ],
   "source": [
    "print('Infor provista: color_labels.csv')\n",
    "print(' --Filas:',dtset_color.shape[0])\n",
    "print(' --Cols :',dtset_color.shape[1])\n",
    "print('Atributos:', dtset_color.columns)"
   ]
  },
  {
   "cell_type": "code",
   "execution_count": 189,
   "metadata": {},
   "outputs": [
    {
     "data": {
      "text/html": [
       "<div>\n",
       "<style scoped>\n",
       "    .dataframe tbody tr th:only-of-type {\n",
       "        vertical-align: middle;\n",
       "    }\n",
       "\n",
       "    .dataframe tbody tr th {\n",
       "        vertical-align: top;\n",
       "    }\n",
       "\n",
       "    .dataframe thead th {\n",
       "        text-align: right;\n",
       "    }\n",
       "</style>\n",
       "<table border=\"1\" class=\"dataframe\">\n",
       "  <thead>\n",
       "    <tr style=\"text-align: right;\">\n",
       "      <th></th>\n",
       "      <th>ColorID</th>\n",
       "      <th>ColorName</th>\n",
       "    </tr>\n",
       "  </thead>\n",
       "  <tbody>\n",
       "    <tr>\n",
       "      <th>6</th>\n",
       "      <td>7</td>\n",
       "      <td>White</td>\n",
       "    </tr>\n",
       "    <tr>\n",
       "      <th>3</th>\n",
       "      <td>4</td>\n",
       "      <td>Yellow</td>\n",
       "    </tr>\n",
       "    <tr>\n",
       "      <th>2</th>\n",
       "      <td>3</td>\n",
       "      <td>Golden</td>\n",
       "    </tr>\n",
       "    <tr>\n",
       "      <th>1</th>\n",
       "      <td>2</td>\n",
       "      <td>Brown</td>\n",
       "    </tr>\n",
       "    <tr>\n",
       "      <th>4</th>\n",
       "      <td>5</td>\n",
       "      <td>Cream</td>\n",
       "    </tr>\n",
       "  </tbody>\n",
       "</table>\n",
       "</div>"
      ],
      "text/plain": [
       "   ColorID ColorName\n",
       "6        7     White\n",
       "3        4    Yellow\n",
       "2        3    Golden\n",
       "1        2     Brown\n",
       "4        5     Cream"
      ]
     },
     "execution_count": 189,
     "metadata": {},
     "output_type": "execute_result"
    }
   ],
   "source": [
    "dtset_color.sample(5)"
   ]
  },
  {
   "cell_type": "code",
   "execution_count": 190,
   "metadata": {},
   "outputs": [
    {
     "name": "stdout",
     "output_type": "stream",
     "text": [
      "Infor provista: state_labels.csv\n",
      " --Filas: 15\n",
      " --Cols : 2\n",
      "Atributos: Index(['StateID', 'StateName'], dtype='object')\n"
     ]
    }
   ],
   "source": [
    "print('Infor provista: state_labels.csv')\n",
    "print(' --Filas:',dtset_state.shape[0])\n",
    "print(' --Cols :',dtset_state.shape[1])\n",
    "print('Atributos:', dtset_state.columns)"
   ]
  },
  {
   "cell_type": "code",
   "execution_count": 191,
   "metadata": {},
   "outputs": [
    {
     "data": {
      "text/html": [
       "<div>\n",
       "<style scoped>\n",
       "    .dataframe tbody tr th:only-of-type {\n",
       "        vertical-align: middle;\n",
       "    }\n",
       "\n",
       "    .dataframe tbody tr th {\n",
       "        vertical-align: top;\n",
       "    }\n",
       "\n",
       "    .dataframe thead th {\n",
       "        text-align: right;\n",
       "    }\n",
       "</style>\n",
       "<table border=\"1\" class=\"dataframe\">\n",
       "  <thead>\n",
       "    <tr style=\"text-align: right;\">\n",
       "      <th></th>\n",
       "      <th>StateID</th>\n",
       "      <th>StateName</th>\n",
       "    </tr>\n",
       "  </thead>\n",
       "  <tbody>\n",
       "    <tr>\n",
       "      <th>6</th>\n",
       "      <td>41332</td>\n",
       "      <td>Negeri Sembilan</td>\n",
       "    </tr>\n",
       "    <tr>\n",
       "      <th>11</th>\n",
       "      <td>41345</td>\n",
       "      <td>Sabah</td>\n",
       "    </tr>\n",
       "    <tr>\n",
       "      <th>10</th>\n",
       "      <td>41327</td>\n",
       "      <td>Pulau Pinang</td>\n",
       "    </tr>\n",
       "    <tr>\n",
       "      <th>1</th>\n",
       "      <td>41325</td>\n",
       "      <td>Kedah</td>\n",
       "    </tr>\n",
       "    <tr>\n",
       "      <th>9</th>\n",
       "      <td>41380</td>\n",
       "      <td>Perlis</td>\n",
       "    </tr>\n",
       "  </tbody>\n",
       "</table>\n",
       "</div>"
      ],
      "text/plain": [
       "    StateID        StateName\n",
       "6     41332  Negeri Sembilan\n",
       "11    41345            Sabah\n",
       "10    41327     Pulau Pinang\n",
       "1     41325            Kedah\n",
       "9     41380           Perlis"
      ]
     },
     "execution_count": 191,
     "metadata": {},
     "output_type": "execute_result"
    }
   ],
   "source": [
    "dtset_state.sample(5)"
   ]
  },
  {
   "cell_type": "code",
   "execution_count": 192,
   "metadata": {},
   "outputs": [
    {
     "name": "stdout",
     "output_type": "stream",
     "text": [
      "Infor provista: train.csv\n",
      " --Filas: 10582\n",
      " --Cols : 20\n",
      "Atributos: Index(['Type', 'Age', 'Breed1', 'Breed2', 'Gender', 'Color1', 'Color2',\n",
      "       'Color3', 'MaturitySize', 'FurLength', 'Vaccinated', 'Dewormed',\n",
      "       'Sterilized', 'Health', 'Quantity', 'Fee', 'State', 'Description',\n",
      "       'AdoptionSpeed', 'PID'],\n",
      "      dtype='object')\n"
     ]
    }
   ],
   "source": [
    "print('Infor provista: train.csv')\n",
    "print(' --Filas:',dtset_trn.shape[0])\n",
    "print(' --Cols :',dtset_trn.shape[1])\n",
    "print('Atributos:', dtset_trn.columns)"
   ]
  },
  {
   "cell_type": "code",
   "execution_count": 193,
   "metadata": {},
   "outputs": [
    {
     "data": {
      "text/html": [
       "<div>\n",
       "<style scoped>\n",
       "    .dataframe tbody tr th:only-of-type {\n",
       "        vertical-align: middle;\n",
       "    }\n",
       "\n",
       "    .dataframe tbody tr th {\n",
       "        vertical-align: top;\n",
       "    }\n",
       "\n",
       "    .dataframe thead th {\n",
       "        text-align: right;\n",
       "    }\n",
       "</style>\n",
       "<table border=\"1\" class=\"dataframe\">\n",
       "  <thead>\n",
       "    <tr style=\"text-align: right;\">\n",
       "      <th></th>\n",
       "      <th>Type</th>\n",
       "      <th>Age</th>\n",
       "      <th>Breed1</th>\n",
       "      <th>Breed2</th>\n",
       "      <th>Gender</th>\n",
       "      <th>Color1</th>\n",
       "      <th>Color2</th>\n",
       "      <th>Color3</th>\n",
       "      <th>MaturitySize</th>\n",
       "      <th>FurLength</th>\n",
       "      <th>Vaccinated</th>\n",
       "      <th>Dewormed</th>\n",
       "      <th>Sterilized</th>\n",
       "      <th>Health</th>\n",
       "      <th>Quantity</th>\n",
       "      <th>Fee</th>\n",
       "      <th>State</th>\n",
       "      <th>Description</th>\n",
       "      <th>AdoptionSpeed</th>\n",
       "      <th>PID</th>\n",
       "    </tr>\n",
       "  </thead>\n",
       "  <tbody>\n",
       "    <tr>\n",
       "      <th>4513</th>\n",
       "      <td>1</td>\n",
       "      <td>4</td>\n",
       "      <td>307</td>\n",
       "      <td>0</td>\n",
       "      <td>2</td>\n",
       "      <td>2</td>\n",
       "      <td>4</td>\n",
       "      <td>0</td>\n",
       "      <td>2</td>\n",
       "      <td>1</td>\n",
       "      <td>1</td>\n",
       "      <td>1</td>\n",
       "      <td>1</td>\n",
       "      <td>1</td>\n",
       "      <td>2</td>\n",
       "      <td>0</td>\n",
       "      <td>41401</td>\n",
       "      <td>2 adorable female 4-months old puppies up for ...</td>\n",
       "      <td>2</td>\n",
       "      <td>6389</td>\n",
       "    </tr>\n",
       "    <tr>\n",
       "      <th>4980</th>\n",
       "      <td>2</td>\n",
       "      <td>4</td>\n",
       "      <td>265</td>\n",
       "      <td>0</td>\n",
       "      <td>2</td>\n",
       "      <td>1</td>\n",
       "      <td>3</td>\n",
       "      <td>4</td>\n",
       "      <td>2</td>\n",
       "      <td>2</td>\n",
       "      <td>2</td>\n",
       "      <td>2</td>\n",
       "      <td>2</td>\n",
       "      <td>1</td>\n",
       "      <td>1</td>\n",
       "      <td>0</td>\n",
       "      <td>41401</td>\n",
       "      <td>Nomi was found hungry and alone on a rainy nig...</td>\n",
       "      <td>1</td>\n",
       "      <td>7057</td>\n",
       "    </tr>\n",
       "    <tr>\n",
       "      <th>8395</th>\n",
       "      <td>1</td>\n",
       "      <td>48</td>\n",
       "      <td>307</td>\n",
       "      <td>307</td>\n",
       "      <td>1</td>\n",
       "      <td>5</td>\n",
       "      <td>7</td>\n",
       "      <td>0</td>\n",
       "      <td>1</td>\n",
       "      <td>3</td>\n",
       "      <td>1</td>\n",
       "      <td>1</td>\n",
       "      <td>3</td>\n",
       "      <td>1</td>\n",
       "      <td>2</td>\n",
       "      <td>0</td>\n",
       "      <td>41401</td>\n",
       "      <td>I bought 1 of them and the other is their chil...</td>\n",
       "      <td>4</td>\n",
       "      <td>11869</td>\n",
       "    </tr>\n",
       "    <tr>\n",
       "      <th>2204</th>\n",
       "      <td>1</td>\n",
       "      <td>4</td>\n",
       "      <td>307</td>\n",
       "      <td>109</td>\n",
       "      <td>1</td>\n",
       "      <td>3</td>\n",
       "      <td>0</td>\n",
       "      <td>0</td>\n",
       "      <td>2</td>\n",
       "      <td>2</td>\n",
       "      <td>1</td>\n",
       "      <td>2</td>\n",
       "      <td>1</td>\n",
       "      <td>1</td>\n",
       "      <td>1</td>\n",
       "      <td>0</td>\n",
       "      <td>41326</td>\n",
       "      <td>Roy is really friendly he wants a home to take...</td>\n",
       "      <td>4</td>\n",
       "      <td>3151</td>\n",
       "    </tr>\n",
       "    <tr>\n",
       "      <th>2737</th>\n",
       "      <td>2</td>\n",
       "      <td>3</td>\n",
       "      <td>266</td>\n",
       "      <td>292</td>\n",
       "      <td>3</td>\n",
       "      <td>7</td>\n",
       "      <td>0</td>\n",
       "      <td>0</td>\n",
       "      <td>2</td>\n",
       "      <td>1</td>\n",
       "      <td>1</td>\n",
       "      <td>1</td>\n",
       "      <td>2</td>\n",
       "      <td>1</td>\n",
       "      <td>2</td>\n",
       "      <td>0</td>\n",
       "      <td>41401</td>\n",
       "      <td>Hi, we found this two abandoned by the mother ...</td>\n",
       "      <td>4</td>\n",
       "      <td>3896</td>\n",
       "    </tr>\n",
       "  </tbody>\n",
       "</table>\n",
       "</div>"
      ],
      "text/plain": [
       "      Type  Age  Breed1  Breed2  Gender  Color1  Color2  Color3  MaturitySize  \\\n",
       "4513     1    4     307       0       2       2       4       0             2   \n",
       "4980     2    4     265       0       2       1       3       4             2   \n",
       "8395     1   48     307     307       1       5       7       0             1   \n",
       "2204     1    4     307     109       1       3       0       0             2   \n",
       "2737     2    3     266     292       3       7       0       0             2   \n",
       "\n",
       "      FurLength  Vaccinated  Dewormed  Sterilized  Health  Quantity  Fee  \\\n",
       "4513          1           1         1           1       1         2    0   \n",
       "4980          2           2         2           2       1         1    0   \n",
       "8395          3           1         1           3       1         2    0   \n",
       "2204          2           1         2           1       1         1    0   \n",
       "2737          1           1         1           2       1         2    0   \n",
       "\n",
       "      State                                        Description  AdoptionSpeed  \\\n",
       "4513  41401  2 adorable female 4-months old puppies up for ...              2   \n",
       "4980  41401  Nomi was found hungry and alone on a rainy nig...              1   \n",
       "8395  41401  I bought 1 of them and the other is their chil...              4   \n",
       "2204  41326  Roy is really friendly he wants a home to take...              4   \n",
       "2737  41401  Hi, we found this two abandoned by the mother ...              4   \n",
       "\n",
       "        PID  \n",
       "4513   6389  \n",
       "4980   7057  \n",
       "8395  11869  \n",
       "2204   3151  \n",
       "2737   3896  "
      ]
     },
     "execution_count": 193,
     "metadata": {},
     "output_type": "execute_result"
    }
   ],
   "source": [
    "dtset_trn.sample(5)"
   ]
  },
  {
   "cell_type": "code",
   "execution_count": 194,
   "metadata": {},
   "outputs": [
    {
     "data": {
      "text/html": [
       "<div>\n",
       "<style scoped>\n",
       "    .dataframe tbody tr th:only-of-type {\n",
       "        vertical-align: middle;\n",
       "    }\n",
       "\n",
       "    .dataframe tbody tr th {\n",
       "        vertical-align: top;\n",
       "    }\n",
       "\n",
       "    .dataframe thead th {\n",
       "        text-align: right;\n",
       "    }\n",
       "</style>\n",
       "<table border=\"1\" class=\"dataframe\">\n",
       "  <thead>\n",
       "    <tr style=\"text-align: right;\">\n",
       "      <th></th>\n",
       "      <th>Type</th>\n",
       "      <th>Age</th>\n",
       "      <th>Breed1</th>\n",
       "      <th>Breed2</th>\n",
       "      <th>Gender</th>\n",
       "      <th>Color1</th>\n",
       "      <th>Color2</th>\n",
       "      <th>Color3</th>\n",
       "      <th>MaturitySize</th>\n",
       "      <th>FurLength</th>\n",
       "      <th>Vaccinated</th>\n",
       "      <th>Dewormed</th>\n",
       "      <th>Sterilized</th>\n",
       "      <th>Health</th>\n",
       "      <th>Quantity</th>\n",
       "      <th>Fee</th>\n",
       "      <th>State</th>\n",
       "      <th>AdoptionSpeed</th>\n",
       "      <th>PID</th>\n",
       "    </tr>\n",
       "  </thead>\n",
       "  <tbody>\n",
       "    <tr>\n",
       "      <th>count</th>\n",
       "      <td>10582.000000</td>\n",
       "      <td>10582.000000</td>\n",
       "      <td>10582.000000</td>\n",
       "      <td>10582.000000</td>\n",
       "      <td>10582.000000</td>\n",
       "      <td>10582.000000</td>\n",
       "      <td>10582.000000</td>\n",
       "      <td>10582.000000</td>\n",
       "      <td>10582.000000</td>\n",
       "      <td>10582.000000</td>\n",
       "      <td>10582.000000</td>\n",
       "      <td>10582.000000</td>\n",
       "      <td>10582.000000</td>\n",
       "      <td>10582.000000</td>\n",
       "      <td>10582.000000</td>\n",
       "      <td>10582.000000</td>\n",
       "      <td>10582.000000</td>\n",
       "      <td>10582.000000</td>\n",
       "      <td>10582.000000</td>\n",
       "    </tr>\n",
       "    <tr>\n",
       "      <th>mean</th>\n",
       "      <td>1.454734</td>\n",
       "      <td>10.520412</td>\n",
       "      <td>265.469854</td>\n",
       "      <td>74.388868</td>\n",
       "      <td>1.779059</td>\n",
       "      <td>2.230675</td>\n",
       "      <td>3.236912</td>\n",
       "      <td>1.856738</td>\n",
       "      <td>1.860518</td>\n",
       "      <td>1.460971</td>\n",
       "      <td>1.729730</td>\n",
       "      <td>1.566528</td>\n",
       "      <td>1.912115</td>\n",
       "      <td>1.036666</td>\n",
       "      <td>1.584011</td>\n",
       "      <td>20.809960</td>\n",
       "      <td>41345.994613</td>\n",
       "      <td>2.518900</td>\n",
       "      <td>7477.025799</td>\n",
       "    </tr>\n",
       "    <tr>\n",
       "      <th>std</th>\n",
       "      <td>0.497970</td>\n",
       "      <td>18.374027</td>\n",
       "      <td>60.121490</td>\n",
       "      <td>123.434010</td>\n",
       "      <td>0.684763</td>\n",
       "      <td>1.743985</td>\n",
       "      <td>2.748595</td>\n",
       "      <td>2.974465</td>\n",
       "      <td>0.547535</td>\n",
       "      <td>0.593843</td>\n",
       "      <td>0.670791</td>\n",
       "      <td>0.701482</td>\n",
       "      <td>0.564041</td>\n",
       "      <td>0.198228</td>\n",
       "      <td>1.488348</td>\n",
       "      <td>78.397243</td>\n",
       "      <td>32.409109</td>\n",
       "      <td>1.176018</td>\n",
       "      <td>4310.921553</td>\n",
       "    </tr>\n",
       "    <tr>\n",
       "      <th>min</th>\n",
       "      <td>1.000000</td>\n",
       "      <td>0.000000</td>\n",
       "      <td>0.000000</td>\n",
       "      <td>0.000000</td>\n",
       "      <td>1.000000</td>\n",
       "      <td>1.000000</td>\n",
       "      <td>0.000000</td>\n",
       "      <td>0.000000</td>\n",
       "      <td>1.000000</td>\n",
       "      <td>1.000000</td>\n",
       "      <td>1.000000</td>\n",
       "      <td>1.000000</td>\n",
       "      <td>1.000000</td>\n",
       "      <td>1.000000</td>\n",
       "      <td>1.000000</td>\n",
       "      <td>0.000000</td>\n",
       "      <td>41324.000000</td>\n",
       "      <td>0.000000</td>\n",
       "      <td>0.000000</td>\n",
       "    </tr>\n",
       "    <tr>\n",
       "      <th>25%</th>\n",
       "      <td>1.000000</td>\n",
       "      <td>2.000000</td>\n",
       "      <td>265.000000</td>\n",
       "      <td>0.000000</td>\n",
       "      <td>1.000000</td>\n",
       "      <td>1.000000</td>\n",
       "      <td>0.000000</td>\n",
       "      <td>0.000000</td>\n",
       "      <td>2.000000</td>\n",
       "      <td>1.000000</td>\n",
       "      <td>1.000000</td>\n",
       "      <td>1.000000</td>\n",
       "      <td>2.000000</td>\n",
       "      <td>1.000000</td>\n",
       "      <td>1.000000</td>\n",
       "      <td>0.000000</td>\n",
       "      <td>41326.000000</td>\n",
       "      <td>2.000000</td>\n",
       "      <td>3768.250000</td>\n",
       "    </tr>\n",
       "    <tr>\n",
       "      <th>50%</th>\n",
       "      <td>1.000000</td>\n",
       "      <td>3.000000</td>\n",
       "      <td>266.000000</td>\n",
       "      <td>0.000000</td>\n",
       "      <td>2.000000</td>\n",
       "      <td>2.000000</td>\n",
       "      <td>2.000000</td>\n",
       "      <td>0.000000</td>\n",
       "      <td>2.000000</td>\n",
       "      <td>1.000000</td>\n",
       "      <td>2.000000</td>\n",
       "      <td>1.000000</td>\n",
       "      <td>2.000000</td>\n",
       "      <td>1.000000</td>\n",
       "      <td>1.000000</td>\n",
       "      <td>0.000000</td>\n",
       "      <td>41326.000000</td>\n",
       "      <td>2.000000</td>\n",
       "      <td>7473.500000</td>\n",
       "    </tr>\n",
       "    <tr>\n",
       "      <th>75%</th>\n",
       "      <td>2.000000</td>\n",
       "      <td>12.000000</td>\n",
       "      <td>307.000000</td>\n",
       "      <td>188.000000</td>\n",
       "      <td>2.000000</td>\n",
       "      <td>3.000000</td>\n",
       "      <td>6.000000</td>\n",
       "      <td>5.000000</td>\n",
       "      <td>2.000000</td>\n",
       "      <td>2.000000</td>\n",
       "      <td>2.000000</td>\n",
       "      <td>2.000000</td>\n",
       "      <td>2.000000</td>\n",
       "      <td>1.000000</td>\n",
       "      <td>1.000000</td>\n",
       "      <td>0.000000</td>\n",
       "      <td>41401.000000</td>\n",
       "      <td>4.000000</td>\n",
       "      <td>11200.750000</td>\n",
       "    </tr>\n",
       "    <tr>\n",
       "      <th>max</th>\n",
       "      <td>2.000000</td>\n",
       "      <td>255.000000</td>\n",
       "      <td>307.000000</td>\n",
       "      <td>307.000000</td>\n",
       "      <td>3.000000</td>\n",
       "      <td>7.000000</td>\n",
       "      <td>7.000000</td>\n",
       "      <td>7.000000</td>\n",
       "      <td>4.000000</td>\n",
       "      <td>3.000000</td>\n",
       "      <td>3.000000</td>\n",
       "      <td>3.000000</td>\n",
       "      <td>3.000000</td>\n",
       "      <td>3.000000</td>\n",
       "      <td>20.000000</td>\n",
       "      <td>3000.000000</td>\n",
       "      <td>41415.000000</td>\n",
       "      <td>4.000000</td>\n",
       "      <td>14992.000000</td>\n",
       "    </tr>\n",
       "  </tbody>\n",
       "</table>\n",
       "</div>"
      ],
      "text/plain": [
       "               Type           Age        Breed1        Breed2        Gender  \\\n",
       "count  10582.000000  10582.000000  10582.000000  10582.000000  10582.000000   \n",
       "mean       1.454734     10.520412    265.469854     74.388868      1.779059   \n",
       "std        0.497970     18.374027     60.121490    123.434010      0.684763   \n",
       "min        1.000000      0.000000      0.000000      0.000000      1.000000   \n",
       "25%        1.000000      2.000000    265.000000      0.000000      1.000000   \n",
       "50%        1.000000      3.000000    266.000000      0.000000      2.000000   \n",
       "75%        2.000000     12.000000    307.000000    188.000000      2.000000   \n",
       "max        2.000000    255.000000    307.000000    307.000000      3.000000   \n",
       "\n",
       "             Color1        Color2        Color3  MaturitySize     FurLength  \\\n",
       "count  10582.000000  10582.000000  10582.000000  10582.000000  10582.000000   \n",
       "mean       2.230675      3.236912      1.856738      1.860518      1.460971   \n",
       "std        1.743985      2.748595      2.974465      0.547535      0.593843   \n",
       "min        1.000000      0.000000      0.000000      1.000000      1.000000   \n",
       "25%        1.000000      0.000000      0.000000      2.000000      1.000000   \n",
       "50%        2.000000      2.000000      0.000000      2.000000      1.000000   \n",
       "75%        3.000000      6.000000      5.000000      2.000000      2.000000   \n",
       "max        7.000000      7.000000      7.000000      4.000000      3.000000   \n",
       "\n",
       "         Vaccinated      Dewormed    Sterilized        Health      Quantity  \\\n",
       "count  10582.000000  10582.000000  10582.000000  10582.000000  10582.000000   \n",
       "mean       1.729730      1.566528      1.912115      1.036666      1.584011   \n",
       "std        0.670791      0.701482      0.564041      0.198228      1.488348   \n",
       "min        1.000000      1.000000      1.000000      1.000000      1.000000   \n",
       "25%        1.000000      1.000000      2.000000      1.000000      1.000000   \n",
       "50%        2.000000      1.000000      2.000000      1.000000      1.000000   \n",
       "75%        2.000000      2.000000      2.000000      1.000000      1.000000   \n",
       "max        3.000000      3.000000      3.000000      3.000000     20.000000   \n",
       "\n",
       "                Fee         State  AdoptionSpeed           PID  \n",
       "count  10582.000000  10582.000000   10582.000000  10582.000000  \n",
       "mean      20.809960  41345.994613       2.518900   7477.025799  \n",
       "std       78.397243     32.409109       1.176018   4310.921553  \n",
       "min        0.000000  41324.000000       0.000000      0.000000  \n",
       "25%        0.000000  41326.000000       2.000000   3768.250000  \n",
       "50%        0.000000  41326.000000       2.000000   7473.500000  \n",
       "75%        0.000000  41401.000000       4.000000  11200.750000  \n",
       "max     3000.000000  41415.000000       4.000000  14992.000000  "
      ]
     },
     "execution_count": 194,
     "metadata": {},
     "output_type": "execute_result"
    }
   ],
   "source": [
    "dtset_trn.describe()"
   ]
  },
  {
   "cell_type": "markdown",
   "metadata": {},
   "source": [
    "# Datos con que contamos:\n",
    "\n",
    "#Type - Tipo de mascota (1 = Dog, 2 = Cat)\n",
    "#Age - Edad en meses\n",
    "#Breed1 - Raza primaria (Refer to BreedLabels dictionary)\n",
    "#Breed2 - Raza secundaria, si es cruce (Refer to BreedLabels dictionary)\n",
    "#Gender - Genero (1 = Male, 2 = Female, 3 = Mixed, if profile represents group of pets)\n",
    "#Color1 - Color 1 of pet (Refer to ColorLabels dictionary)\n",
    "#Color2 - Color 2 of pet (Refer to ColorLabels dictionary)\n",
    "#Color3 - Color 3 of pet (Refer to ColorLabels dictionary)\n",
    "#MaturitySize - Tamaño (1 = Small, 2 = Medium, 3 = Large, 4 = Extra Large, 0 = Not Specified)\n",
    "#FurLength - Largo del pelaje (1 = Short, 2 = Medium, 3 = Long, 0 = Not Specified)\n",
    "#Vaccinated - Si fue vacunado (1 = Yes, 2 = No, 3 = Not Sure)\n",
    "#Dewormed - Si fue desparasitado (1 = Yes, 2 = No, 3 = Not Sure)\n",
    "#Sterilized - Si fue esterilizado/castrado (1 = Yes, 2 = No, 3 = Not Sure)\n",
    "#Health - Estado de salud (1 = Healthy, 2 = Minor Injury, 3 = Serious Injury, 0 = Not Specified)\n",
    "#Quantity - Cantidad de mascotas en el perfil\n",
    "#Fee - Adoption fee (0 = Free)\n",
    "#State - Estado in Malaysia (Refer to StateLabels dictionary)\n",
    "#Description - Profile write-up for this pet. The primary language used is English, with some in Malay or Chinese.\n",
    "\n",
    "#Variable objetivo:\n",
    "#AdoptionSpeed - Categorical speed of adoption. Lower is faster. This is the value to predict.\n",
    "0. Pet was adopted on the same day as it was listed. \n",
    "1. Pet was adopted between 1 and 7 days (1st week) after being listed. \n",
    "2. Pet was adopted between 8 and 30 days (1st month) after being listed. \n",
    "3. Pet was adopted between 31 and 90 days (2nd & 3rd month) after being listed. \n",
    "4. No adoption after 100 days of being listed. (There are no pets in this dataset that waited between 90 and 100 days).\n"
   ]
  },
  {
   "cell_type": "code",
   "execution_count": 195,
   "metadata": {},
   "outputs": [],
   "source": [
    "#Separo los datos para entrenamiento y test\n",
    "X = dtset_trn[ ['Type', 'Age', 'Breed1', 'Breed2', 'Gender', 'Color1', 'Color2',\n",
    "       'Color3', 'MaturitySize', 'FurLength', 'Vaccinated', 'Dewormed',\n",
    "       'Sterilized', 'Health', 'Quantity', 'Fee', 'State']]\n",
    "y = dtset_trn.AdoptionSpeed\n",
    "\n",
    "X_train, X_test, y_train, y_test = train_test_split(X, y, test_size=0.3, random_state=0)"
   ]
  },
  {
   "cell_type": "code",
   "execution_count": 196,
   "metadata": {},
   "outputs": [
    {
     "name": "stdout",
     "output_type": "stream",
     "text": [
      "(10582, 20)\n",
      "(10582, 17)\n",
      "(10582,)\n",
      "...\n",
      "(7407, 17)\n",
      "(7407,)\n",
      "...\n",
      "(3175, 17)\n",
      "(3175,)\n"
     ]
    }
   ],
   "source": [
    "#Verifico separación\n",
    "print(dtset_trn.shape)\n",
    "print(X.shape)\n",
    "print(y.shape)\n",
    "print('...')\n",
    "print(X_train.shape)\n",
    "print(y_train.shape)\n",
    "print('...')\n",
    "print(X_test.shape)\n",
    "print(y_test.shape)"
   ]
  },
  {
   "cell_type": "code",
   "execution_count": null,
   "metadata": {},
   "outputs": [],
   "source": []
  },
  {
   "cell_type": "code",
   "execution_count": 200,
   "metadata": {},
   "outputs": [],
   "source": [
    "def mostrar(obs, md, trn, y_trn, tst, y_tst):\n",
    "    y_trn_pred = md.predict(trn)\n",
    "    y_tst_pred  = md.predict(tst)\n",
    "\n",
    "    print(obs)\n",
    "    print('Exactitud para TRAIN: %.4f' % accuracy_score(y_trn, y_trn_pred))\n",
    "    print('Exactitud para TEST : %.4f' % accuracy_score(y_tst, y_tst_pred))"
   ]
  },
  {
   "cell_type": "code",
   "execution_count": null,
   "metadata": {},
   "outputs": [],
   "source": []
  },
  {
   "cell_type": "markdown",
   "metadata": {},
   "source": [
    "### Regresión Logística"
   ]
  },
  {
   "cell_type": "code",
   "execution_count": 198,
   "metadata": {},
   "outputs": [
    {
     "data": {
      "text/plain": [
       "LogisticRegressionCV(Cs=10, class_weight=None, cv='warn', dual=False,\n",
       "           fit_intercept=True, intercept_scaling=1.0, max_iter=100,\n",
       "           multi_class='ovr', n_jobs=None, penalty='l2', random_state=5,\n",
       "           refit=True, scoring=None, solver='lbfgs', tol=0.0001, verbose=0)"
      ]
     },
     "execution_count": 198,
     "metadata": {},
     "output_type": "execute_result"
    }
   ],
   "source": [
    "#Pruebo Regresion Logistica con los datos en Crudo \n",
    "modeloLR = LogisticRegressionCV(random_state=5,  multi_class='ovr')\n",
    "modeloLR.fit(X_train, y_train)"
   ]
  },
  {
   "cell_type": "code",
   "execution_count": 201,
   "metadata": {},
   "outputs": [
    {
     "name": "stdout",
     "output_type": "stream",
     "text": [
      "Datos ORIGINALES\n",
      "Exactitud para TRAIN: 0.3294\n",
      "Exactitud para TEST : 0.3298\n"
     ]
    }
   ],
   "source": [
    "mostrar('Datos ORIGINALES', modeloLR, X_train, y_train, X_test, y_test)"
   ]
  },
  {
   "cell_type": "code",
   "execution_count": 202,
   "metadata": {},
   "outputs": [],
   "source": [
    "#Vemos que pasa Estandarizando y Normalizando\n",
    "sST=StandardScaler()\n",
    "X_train_ST=sST.fit_transform(X_train)\n",
    "\n",
    "sMM=MinMaxScaler()\n",
    "X_train_MM=sMM.fit_transform(X_train)"
   ]
  },
  {
   "cell_type": "code",
   "execution_count": 203,
   "metadata": {},
   "outputs": [
    {
     "name": "stdout",
     "output_type": "stream",
     "text": [
      "Datos NORMALIZADOS\n",
      "Exactitud para TRAIN: 0.3328\n",
      "Exactitud para TEST : 0.3326\n"
     ]
    }
   ],
   "source": [
    "#Probamos datos Normalizados\n",
    "modeloLR = LogisticRegressionCV(random_state=5,  multi_class='ovr')\n",
    "modeloLR.fit(X_train_MM, y_train)\n",
    "\n",
    "mostrar('Datos NORMALIZADOS', modeloLR, X_train_MM, y_train, sMM.transform(X_test), y_test)"
   ]
  },
  {
   "cell_type": "code",
   "execution_count": 204,
   "metadata": {},
   "outputs": [
    {
     "name": "stdout",
     "output_type": "stream",
     "text": [
      "Datos ESTANDARIZADOS\n",
      "Exactitud para TRAIN: 0.3377\n",
      "Exactitud para TEST : 0.3354\n"
     ]
    }
   ],
   "source": [
    "#>> MEJORES RESULTADOS\n",
    "#Probamos datos Estandarizados\n",
    "modeloLR = LogisticRegressionCV(random_state=5,  multi_class='ovr')\n",
    "modeloLR.fit(X_train_ST, y_train)\n",
    "\n",
    "mostrar('Datos ESTANDARIZADOS', modeloLR, X_train_ST, y_train, sST.transform(X_test), y_test)"
   ]
  },
  {
   "cell_type": "code",
   "execution_count": 155,
   "metadata": {},
   "outputs": [
    {
     "data": {
      "text/plain": [
       "GridSearchCV(cv=5, error_score='raise-deprecating',\n",
       "       estimator=LogisticRegression(C=1.0, class_weight=None, dual=False, fit_intercept=True,\n",
       "          intercept_scaling=1, max_iter=100, multi_class='warn',\n",
       "          n_jobs=None, penalty='l2', random_state=5, solver='warn',\n",
       "          tol=0.0001, verbose=0, warm_start=False),\n",
       "       fit_params=None, iid='warn', n_jobs=None,\n",
       "       param_grid={'penalty': ['l2'], 'solver': ['newton-cg', 'lbfgs', 'sag', 'saga'], 'multi_class': ['ovr', 'multinomial', 'auto']},\n",
       "       pre_dispatch='2*n_jobs', refit=True, return_train_score='warn',\n",
       "       scoring='accuracy', verbose=0)"
      ]
     },
     "execution_count": 155,
     "metadata": {},
     "output_type": "execute_result"
    }
   ],
   "source": [
    "#Buscamos optimizar parámetros - Consideramos Datos Estandarizados\n",
    "exploring_params = {\n",
    "    'penalty': ['l2'], \n",
    "    'solver' : ['newton-cg', 'lbfgs', 'sag', 'saga'],\n",
    "    'multi_class' : ['ovr', 'multinomial', 'auto']\n",
    "}\n",
    "\n",
    "modeloLR = LogisticRegression(random_state=5)\n",
    "mBsqda = GridSearchCV(modeloLR, exploring_params, cv=5, scoring='accuracy')\n",
    "mBsqda.fit(X_train_ST, y_train)"
   ]
  },
  {
   "cell_type": "code",
   "execution_count": 205,
   "metadata": {
    "scrolled": true
   },
   "outputs": [
    {
     "name": "stdout",
     "output_type": "stream",
     "text": [
      "Mejor conjunto de parámetros:\n",
      "{'multi_class': 'ovr', 'penalty': 'l2', 'solver': 'newton-cg'}\n",
      "\n",
      "Puntajes de la grilla:\n",
      "\n",
      "Exactitud: 0.33657 (+/-0.000) para los parámetros {'multi_class': 'ovr', 'penalty': 'l2', 'solver': 'newton-cg'}\n",
      "Exactitud: 0.33657 (+/-0.000) para los parámetros {'multi_class': 'ovr', 'penalty': 'l2', 'solver': 'lbfgs'}\n",
      "Exactitud: 0.33657 (+/-0.000) para los parámetros {'multi_class': 'ovr', 'penalty': 'l2', 'solver': 'sag'}\n",
      "Exactitud: 0.33657 (+/-0.000) para los parámetros {'multi_class': 'ovr', 'penalty': 'l2', 'solver': 'saga'}\n",
      "\n"
     ]
    }
   ],
   "source": [
    "print(\"Mejor conjunto de parámetros:\")\n",
    "print(mBsqda.best_params_, end=\"\\n\\n\")\n",
    "\n",
    "print(\"Puntajes de la grilla:\", end=\"\\n\\n\")\n",
    "means = mBsqda.cv_results_['mean_test_score']\n",
    "stds = mBsqda.cv_results_['std_test_score']\n",
    "for mean, std, params in zip(means, stds, mBsqda.cv_results_['params']):\n",
    "    if mean > 0.336:\n",
    "        print(\"Exactitud: %0.5f (+/-%0.03f) para los parámetros %r\" % (mean, std ** 2, params))\n",
    "print()"
   ]
  },
  {
   "cell_type": "code",
   "execution_count": 206,
   "metadata": {},
   "outputs": [
    {
     "data": {
      "text/plain": [
       "LogisticRegressionCV(Cs=10, class_weight=None, cv='warn', dual=False,\n",
       "           fit_intercept=True, intercept_scaling=1.0, max_iter=100,\n",
       "           multi_class='ovr', n_jobs=None, penalty='l2', random_state=5,\n",
       "           refit=True, scoring=None, solver='newton-cg', tol=0.0001,\n",
       "           verbose=0)"
      ]
     },
     "execution_count": 206,
     "metadata": {},
     "output_type": "execute_result"
    }
   ],
   "source": [
    "#Entrenamos con los parámetros optimizados\n",
    "modeloLR = LogisticRegressionCV(random_state=5, **mBsqda.best_params_)\n",
    "modeloLR.fit(X_train_ST, y_train)"
   ]
  },
  {
   "cell_type": "code",
   "execution_count": 207,
   "metadata": {},
   "outputs": [
    {
     "name": "stdout",
     "output_type": "stream",
     "text": [
      "Datos ESTANDARIZADOS\n",
      "Exactitud para TRAIN: 0.3375\n",
      "Exactitud para TEST : 0.3354\n"
     ]
    }
   ],
   "source": [
    "#No se logró mejorar mucho\n",
    "mostrar('Datos ESTANDARIZADOS', modeloLR, X_train_ST, y_train, sST.transform(X_test), y_test)"
   ]
  },
  {
   "cell_type": "markdown",
   "metadata": {},
   "source": [
    "#### Convertimos atributos y revisamos los datos"
   ]
  },
  {
   "cell_type": "code",
   "execution_count": 208,
   "metadata": {},
   "outputs": [
    {
     "data": {
      "text/plain": [
       "LabelBinarizer(neg_label=0, pos_label=1, sparse_output=False)"
      ]
     },
     "execution_count": 208,
     "metadata": {},
     "output_type": "execute_result"
    }
   ],
   "source": [
    "#Conversores\n",
    "lbBreed = preprocessing.LabelBinarizer()\n",
    "lbColor = preprocessing.LabelBinarizer()\n",
    "lbGender = preprocessing.LabelBinarizer()\n",
    "lbMaturitySize = preprocessing.LabelBinarizer() \n",
    "lbFurLength = preprocessing.LabelBinarizer()\n",
    "lbVaccinated = preprocessing.LabelBinarizer()\n",
    "lbDewormed = preprocessing.LabelBinarizer()\n",
    "lbSterilized = preprocessing.LabelBinarizer()\n",
    "lbHealth = preprocessing.LabelBinarizer()\n",
    "lbState = preprocessing.LabelBinarizer()\n",
    "lblWords = preprocessing.LabelBinarizer()\n",
    "\n",
    "lbBreed.fit(dtset_trn.Breed1)\n",
    "lbColor.fit(dtset_color.ColorID)\n",
    "\n",
    "lbGender.fit(dtset_trn.Gender)\n",
    "lbMaturitySize.fit(dtset_trn.MaturitySize)\n",
    "lbFurLength.fit(dtset_trn.FurLength)\n",
    "lbVaccinated.fit(dtset_trn.Vaccinated)\n",
    "lbDewormed.fit(dtset_trn.Dewormed)\n",
    "lbSterilized.fit(dtset_trn.Sterilized)\n",
    "lbHealth.fit(dtset_trn.Health)\n",
    "\n",
    "lbState.fit(dtset_state.StateID)\n",
    "\n",
    "lWords=['0-20', '20-40', '40-60','60-100','100-200','>200']\n",
    "lblWords.fit(lWords)"
   ]
  },
  {
   "cell_type": "code",
   "execution_count": 209,
   "metadata": {},
   "outputs": [],
   "source": [
    "#Fuciones de COnversión\n",
    "def trnsCol(dt, lb, col, newcols):\n",
    "    r=lb.transform(dt[col].tolist())\n",
    "    c=[col + str(x) for x in lb.classes_ ]\n",
    "    dt[c]= pd.DataFrame(r,columns=c, index=dt.index)\n",
    "    newcols.extend(c)\n",
    "\n",
    "def transformar(dt):\n",
    "    dtset=dt.copy()\n",
    "    cols=[]\n",
    "    \n",
    "    trnsCol(dtset, lbBreed, 'Breed1', cols)\n",
    "    trnsCol(dtset, lbBreed, 'Breed2', cols)\n",
    "    col='Breed_Pure'  #Agrego un nuevo atributo que define si es de Pura Raza\n",
    "    dtset[col]=np.where(dtset.Breed2==0,1,0)\n",
    "    cols.append(col)\n",
    "\n",
    "    trnsCol(dtset, lbGender, 'Gender', cols)\n",
    "    \n",
    "    trnsCol(dtset, lbColor, 'Color1', cols)\n",
    "    trnsCol(dtset, lbColor, 'Color2', cols)\n",
    "    trnsCol(dtset, lbColor, 'Color3', cols)\n",
    "    col='Color_Pure'  #Agrego un nuevo atributo que define si tiene un único color\n",
    "    dtset[col]=np.where((dtset.Color2==0) & (dtset.Color3==0),1,0)    \n",
    "    cols.append(col)\n",
    "    \n",
    "    trnsCol(dtset, lbMaturitySize, 'MaturitySize', cols)\n",
    "    trnsCol(dtset, lbFurLength, 'FurLength', cols)\n",
    "    trnsCol(dtset, lbVaccinated, 'Vaccinated', cols)\n",
    "    trnsCol(dtset, lbDewormed, 'Dewormed', cols)\n",
    "    trnsCol(dtset, lbSterilized, 'Sterilized', cols)\n",
    "    trnsCol(dtset, lbHealth, 'Health', cols)\n",
    "\n",
    "    trnsCol(dtset, lbState, 'State', cols)\n",
    "    \n",
    "    col='Free' #Defino un nuevo atributo que indique si el Gratis, vamos a descartar el FEE\n",
    "    dtset[col]=np.where(dtset.Fee==0,1,0)    \n",
    "    cols.append(col)\n",
    "\n",
    "    #Cuento la cantidad de palabras de la descripción\n",
    "    dtset['Words']=dtset.Description.apply(lambda x : len(str(x).split()))\n",
    "    dtset['WBins']=pd.cut(dtset.Words, bins=[0,20,40,60,100,200, np.inf], labels=lWords)\n",
    "\n",
    "    trnsCol(dtset, lblWords, 'WBins', cols)    \n",
    "    \n",
    "#    cols.extend(['Type', 'Age','Quantity', 'Fee'])\n",
    "    cols.extend(['Type', 'Age','Quantity'])\n",
    "    \n",
    "    return dtset[cols]"
   ]
  },
  {
   "cell_type": "code",
   "execution_count": 210,
   "metadata": {},
   "outputs": [
    {
     "data": {
      "text/plain": [
       "(10582, 20)"
      ]
     },
     "execution_count": 210,
     "metadata": {},
     "output_type": "execute_result"
    }
   ],
   "source": [
    "#Cambio la representación de los datos\n",
    "dtset=dtset_trn.copy()\n",
    "dtset.shape"
   ]
  },
  {
   "cell_type": "code",
   "execution_count": 211,
   "metadata": {},
   "outputs": [],
   "source": [
    "#Elimino valores extremos en Age y Fee\n",
    "dtset.drop( dtset[ dtset.Age > dtset.Age.mean()+3*dtset.Age.std() ].index, inplace=True)\n",
    "dtset.drop( dtset[ dtset.Fee > dtset.Fee.mean()+3*dtset.Fee.std() ].index, inplace=True)"
   ]
  },
  {
   "cell_type": "code",
   "execution_count": 212,
   "metadata": {},
   "outputs": [],
   "source": [
    "#Transformo Dataset\n",
    "dtbase=transformar(dtset)"
   ]
  },
  {
   "cell_type": "code",
   "execution_count": 213,
   "metadata": {},
   "outputs": [
    {
     "name": "stdout",
     "output_type": "stream",
     "text": [
      "Dataset Original    : (10582, 20)\n",
      "Dataset SIN Ouliers : (10107, 20)\n",
      "Nuevo Dataset       : (10107, 398)\n"
     ]
    }
   ],
   "source": [
    "print('Dataset Original    :', dtset_trn.shape)\n",
    "print('Dataset SIN Ouliers :', dtset.shape)\n",
    "print('Nuevo Dataset       :', dtbase.shape)"
   ]
  },
  {
   "cell_type": "code",
   "execution_count": 214,
   "metadata": {},
   "outputs": [
    {
     "data": {
      "text/html": [
       "<div>\n",
       "<style scoped>\n",
       "    .dataframe tbody tr th:only-of-type {\n",
       "        vertical-align: middle;\n",
       "    }\n",
       "\n",
       "    .dataframe tbody tr th {\n",
       "        vertical-align: top;\n",
       "    }\n",
       "\n",
       "    .dataframe thead th {\n",
       "        text-align: right;\n",
       "    }\n",
       "</style>\n",
       "<table border=\"1\" class=\"dataframe\">\n",
       "  <thead>\n",
       "    <tr style=\"text-align: right;\">\n",
       "      <th></th>\n",
       "      <th>WBins0-20</th>\n",
       "      <th>WBins100-200</th>\n",
       "      <th>WBins20-40</th>\n",
       "      <th>WBins40-60</th>\n",
       "      <th>WBins60-100</th>\n",
       "      <th>WBins&gt;200</th>\n",
       "    </tr>\n",
       "  </thead>\n",
       "  <tbody>\n",
       "    <tr>\n",
       "      <th>9213</th>\n",
       "      <td>0</td>\n",
       "      <td>0</td>\n",
       "      <td>0</td>\n",
       "      <td>1</td>\n",
       "      <td>0</td>\n",
       "      <td>0</td>\n",
       "    </tr>\n",
       "    <tr>\n",
       "      <th>1912</th>\n",
       "      <td>1</td>\n",
       "      <td>0</td>\n",
       "      <td>0</td>\n",
       "      <td>0</td>\n",
       "      <td>0</td>\n",
       "      <td>0</td>\n",
       "    </tr>\n",
       "    <tr>\n",
       "      <th>5149</th>\n",
       "      <td>0</td>\n",
       "      <td>0</td>\n",
       "      <td>0</td>\n",
       "      <td>0</td>\n",
       "      <td>1</td>\n",
       "      <td>0</td>\n",
       "    </tr>\n",
       "    <tr>\n",
       "      <th>1199</th>\n",
       "      <td>0</td>\n",
       "      <td>0</td>\n",
       "      <td>1</td>\n",
       "      <td>0</td>\n",
       "      <td>0</td>\n",
       "      <td>0</td>\n",
       "    </tr>\n",
       "    <tr>\n",
       "      <th>1079</th>\n",
       "      <td>0</td>\n",
       "      <td>0</td>\n",
       "      <td>1</td>\n",
       "      <td>0</td>\n",
       "      <td>0</td>\n",
       "      <td>0</td>\n",
       "    </tr>\n",
       "  </tbody>\n",
       "</table>\n",
       "</div>"
      ],
      "text/plain": [
       "      WBins0-20  WBins100-200  WBins20-40  WBins40-60  WBins60-100  WBins>200\n",
       "9213          0             0           0           1            0          0\n",
       "1912          1             0           0           0            0          0\n",
       "5149          0             0           0           0            1          0\n",
       "1199          0             0           1           0            0          0\n",
       "1079          0             0           1           0            0          0"
      ]
     },
     "execution_count": 214,
     "metadata": {},
     "output_type": "execute_result"
    }
   ],
   "source": [
    "#Verifico rango de palabras\n",
    "dtbase[ [x for x in dtbase.columns if 'WBins' in x ] ].sample(5)"
   ]
  },
  {
   "cell_type": "code",
   "execution_count": 215,
   "metadata": {},
   "outputs": [],
   "source": [
    "#Vuelvo a separar entre Train y Test\n",
    "X = dtbase\n",
    "y = dtset.AdoptionSpeed\n",
    "\n",
    "X_train_MJR, X_test_MJR, y_train_MJR, y_test_MJR = train_test_split(X, y, test_size=0.3, random_state=0)"
   ]
  },
  {
   "cell_type": "code",
   "execution_count": 216,
   "metadata": {},
   "outputs": [
    {
     "data": {
      "text/plain": [
       "LogisticRegressionCV(Cs=10, class_weight=None, cv='warn', dual=False,\n",
       "           fit_intercept=True, intercept_scaling=1.0, max_iter=100,\n",
       "           multi_class='ovr', n_jobs=None, penalty='l2', random_state=5,\n",
       "           refit=True, scoring=None, solver='lbfgs', tol=0.0001, verbose=0)"
      ]
     },
     "execution_count": 216,
     "metadata": {},
     "output_type": "execute_result"
    }
   ],
   "source": [
    "#Vuelvo a progar Regresión Logística\n",
    "modeloLR = LogisticRegressionCV(random_state=5,  multi_class='ovr')\n",
    "modeloLR.fit(X_train_MJR, y_train_MJR)"
   ]
  },
  {
   "cell_type": "code",
   "execution_count": 217,
   "metadata": {},
   "outputs": [
    {
     "name": "stdout",
     "output_type": "stream",
     "text": [
      "Datos Mejorados\n",
      "Exactitud para TRAIN: 0.3602\n",
      "Exactitud para TEST : 0.3581\n"
     ]
    }
   ],
   "source": [
    "mostrar('Datos Mejorados', modeloLR, X_train_MJR, y_train_MJR,  X_test_MJR, y_test_MJR)"
   ]
  },
  {
   "cell_type": "code",
   "execution_count": 220,
   "metadata": {},
   "outputs": [
    {
     "data": {
      "text/plain": [
       "GridSearchCV(cv=5, error_score='raise-deprecating',\n",
       "       estimator=LogisticRegression(C=1.0, class_weight=None, dual=False, fit_intercept=True,\n",
       "          intercept_scaling=1, max_iter=100, multi_class='warn',\n",
       "          n_jobs=None, penalty='l2', random_state=5, solver='warn',\n",
       "          tol=0.0001, verbose=0, warm_start=False),\n",
       "       fit_params=None, iid='warn', n_jobs=None,\n",
       "       param_grid={'penalty': ['l2'], 'solver': ['newton-cg', 'lbfgs', 'sag', 'saga'], 'multi_class': ['ovr', 'multinomial', 'auto']},\n",
       "       pre_dispatch='2*n_jobs', refit=True, return_train_score='warn',\n",
       "       scoring='accuracy', verbose=0)"
      ]
     },
     "execution_count": 220,
     "metadata": {},
     "output_type": "execute_result"
    }
   ],
   "source": [
    "#Buscamos optimizar parámetros\n",
    "exploring_params = {\n",
    "    'penalty': ['l2'], \n",
    "    'solver' : ['newton-cg', 'lbfgs', 'sag', 'saga'],\n",
    "    'multi_class' : ['ovr', 'multinomial', 'auto']\n",
    "}\n",
    "\n",
    "modeloLR = LogisticRegression(random_state=5)\n",
    "mBsqda = GridSearchCV(modeloLR, exploring_params, cv=5, scoring='accuracy')\n",
    "mBsqda.fit(X_train_MJR, y_train_MJR)"
   ]
  },
  {
   "cell_type": "code",
   "execution_count": 223,
   "metadata": {},
   "outputs": [
    {
     "name": "stdout",
     "output_type": "stream",
     "text": [
      "Mejor conjunto de parámetros:\n",
      "{'multi_class': 'ovr', 'penalty': 'l2', 'solver': 'saga'}\n",
      "\n",
      "Puntajes de la grilla:\n",
      "\n",
      "Exactitud: 0.36726 (+/-0.000) para los parámetros {'multi_class': 'ovr', 'penalty': 'l2', 'solver': 'sag'}\n",
      "Exactitud: 0.36811 (+/-0.000) para los parámetros {'multi_class': 'ovr', 'penalty': 'l2', 'solver': 'saga'}\n",
      "Exactitud: 0.36740 (+/-0.000) para los parámetros {'multi_class': 'multinomial', 'penalty': 'l2', 'solver': 'sag'}\n",
      "Exactitud: 0.36740 (+/-0.000) para los parámetros {'multi_class': 'auto', 'penalty': 'l2', 'solver': 'sag'}\n",
      "\n"
     ]
    }
   ],
   "source": [
    "print(\"Mejor conjunto de parámetros:\")\n",
    "print(mBsqda.best_params_, end=\"\\n\\n\")\n",
    "\n",
    "print(\"Puntajes de la grilla:\", end=\"\\n\\n\")\n",
    "means = mBsqda.cv_results_['mean_test_score']\n",
    "stds = mBsqda.cv_results_['std_test_score']\n",
    "for mean, std, params in zip(means, stds, mBsqda.cv_results_['params']):\n",
    "    if mean > 0.367:\n",
    "        print(\"Exactitud: %0.5f (+/-%0.03f) para los parámetros %r\" % (mean, std ** 2, params))\n",
    "print()"
   ]
  },
  {
   "cell_type": "code",
   "execution_count": 225,
   "metadata": {},
   "outputs": [
    {
     "data": {
      "text/plain": [
       "LogisticRegressionCV(Cs=10, class_weight=None, cv='warn', dual=False,\n",
       "           fit_intercept=True, intercept_scaling=1.0, max_iter=100,\n",
       "           multi_class='ovr', n_jobs=None, penalty='l2', random_state=5,\n",
       "           refit=True, scoring=None, solver='saga', tol=0.0001, verbose=0)"
      ]
     },
     "execution_count": 225,
     "metadata": {},
     "output_type": "execute_result"
    }
   ],
   "source": [
    "#Entrenamos con los parámetros optimizados\n",
    "modeloLR = LogisticRegressionCV(random_state=5, **mBsqda.best_params_)\n",
    "modeloLR.fit(X_train_MJR, y_train_MJR)"
   ]
  },
  {
   "cell_type": "code",
   "execution_count": 226,
   "metadata": {},
   "outputs": [
    {
     "name": "stdout",
     "output_type": "stream",
     "text": [
      "Datos Mejorados\n",
      "Exactitud para TRAIN: 0.3791\n",
      "Exactitud para TEST : 0.3534\n"
     ]
    }
   ],
   "source": [
    "mostrar('Datos Mejorados', modeloLR, X_train_MJR, y_train_MJR,  X_test_MJR, y_test_MJR)"
   ]
  },
  {
   "cell_type": "code",
   "execution_count": 229,
   "metadata": {},
   "outputs": [
    {
     "data": {
      "image/png": "[encoded data removed]",
      "text/plain": [
       "<Figure size 432x288 with 2 Axes>"
      ]
     },
     "metadata": {
      "needs_background": "light"
     },
     "output_type": "display_data"
    }
   ],
   "source": [
    "#Verifico cómo es la predicción de clases\n",
    "plot_confusion_matrix(confusion_matrix(y_test_TRN, modeloLR.predict(X_test_MJR)), classes=[0,1,2,3,4], title='LR')"
   ]
  },
  {
   "cell_type": "code",
   "execution_count": 227,
   "metadata": {},
   "outputs": [],
   "source": [
    "#Generamos un archivo para Kaggel con este modelo\n",
    "dtset_tst['AdoptionSpeed']=modeloLR.predict(transformar(dtset_tst))"
   ]
  },
  {
   "cell_type": "code",
   "execution_count": 228,
   "metadata": {},
   "outputs": [],
   "source": [
    "dtset_tst[ ['PID','AdoptionSpeed'] ].to_csv('kaggel/modeloLR.csv', index=False)"
   ]
  },
  {
   "cell_type": "code",
   "execution_count": null,
   "metadata": {},
   "outputs": [],
   "source": []
  },
  {
   "cell_type": "markdown",
   "metadata": {},
   "source": [
    "### Probamos DSG"
   ]
  },
  {
   "cell_type": "code",
   "execution_count": 230,
   "metadata": {},
   "outputs": [
    {
     "name": "stdout",
     "output_type": "stream",
     "text": [
      "Datos Mejorados\n",
      "Exactitud para TRAIN: 0.2197\n",
      "Exactitud para TEST : 0.2151\n"
     ]
    }
   ],
   "source": [
    "#Entrenamos SDG con datos Originales\n",
    "modeloSGDC = SGDClassifier(random_state=5)\n",
    "modeloSGDC.fit(X_train, y_train) \n",
    "\n",
    "mostrar('Datos Mejorados', modeloSGDC, X_train, y_train,  X_test, y_test)"
   ]
  },
  {
   "cell_type": "code",
   "execution_count": 233,
   "metadata": {},
   "outputs": [
    {
     "name": "stdout",
     "output_type": "stream",
     "text": [
      "Datos Mejorados\n",
      "Exactitud para TRAIN: 0.2538\n",
      "Exactitud para TEST : 0.2576\n"
     ]
    }
   ],
   "source": [
    "#Entrenamos SDG con datos Normalizados\n",
    "modeloSGDC = SGDClassifier(random_state=5)\n",
    "modeloSGDC.fit(X_train_MM, y_train) \n",
    "\n",
    "mostrar('Datos Mejorados', modeloSGDC, X_train_MM, y_train,  sMM.transform(X_test), y_test)"
   ]
  },
  {
   "cell_type": "code",
   "execution_count": 232,
   "metadata": {},
   "outputs": [
    {
     "name": "stdout",
     "output_type": "stream",
     "text": [
      "Datos Mejorados\n",
      "Exactitud para TRAIN: 0.2656\n",
      "Exactitud para TEST : 0.2570\n"
     ]
    }
   ],
   "source": [
    "#Entrenamos SDG con datos Estandarizados\n",
    "modeloSGDC = SGDClassifier(random_state=5)\n",
    "modeloSGDC.fit(X_train_ST, y_train) \n",
    "\n",
    "mostrar('Datos Mejorados', modeloSGDC, X_train_ST, y_train, sST.transform(X_test), y_test)"
   ]
  },
  {
   "cell_type": "code",
   "execution_count": 234,
   "metadata": {},
   "outputs": [
    {
     "name": "stdout",
     "output_type": "stream",
     "text": [
      "Datos Mejorados\n",
      "Exactitud para TRAIN: 0.3639\n",
      "Exactitud para TEST : 0.3541\n"
     ]
    }
   ],
   "source": [
    "#Verifco con datos Mejorados (nuevos atributos)\n",
    "#Entrenamos SDG con datos Estandarizados\n",
    "modeloSGDC = SGDClassifier(random_state=5)\n",
    "modeloSGDC.fit(X_train_MJR, y_train_MJR) \n",
    "\n",
    "mostrar('Datos Mejorados', modeloSGDC, X_train_MJR, y_train_MJR, X_test_MJR, y_test_MJR)"
   ]
  },
  {
   "cell_type": "code",
   "execution_count": 235,
   "metadata": {},
   "outputs": [
    {
     "data": {
      "text/plain": [
       "GridSearchCV(cv=5, error_score='raise-deprecating',\n",
       "       estimator=SGDClassifier(alpha=0.0001, average=False, class_weight=None,\n",
       "       early_stopping=False, epsilon=0.1, eta0=0.0, fit_intercept=True,\n",
       "       l1_ratio=0.15, learning_rate='optimal', loss='hinge', max_iter=None,\n",
       "       n_iter=None, n_iter_no_change=5, n_jobs=None, penalty='l2',\n",
       "       power_t=0.5, random_state=5, shuffle=True, tol=None,\n",
       "       validation_fraction=0.1, verbose=0, warm_start=False),\n",
       "       fit_params=None, iid='warn', n_jobs=None,\n",
       "       param_grid={'loss': ['hinge', 'log', 'modified_huber', 'squared_hinge', 'perceptron', 'squared_loss', 'huber', 'epsilon_insensitive', 'squared_epsilon_insensitive'], 'penalty': ['l2', 'l1', 'elasticnet'], 'alpha': [1, 0.1, 0.01, 0.001, 0.0001, 1e-05], 'learning_rate': ['constant', 'optimal', 'invscaling', 'adaptive'], 'eta0': [1, 0.1, 0.01, 0.0001]},\n",
       "       pre_dispatch='2*n_jobs', refit=True, return_train_score='warn',\n",
       "       scoring='accuracy', verbose=0)"
      ]
     },
     "execution_count": 235,
     "metadata": {},
     "output_type": "execute_result"
    }
   ],
   "source": [
    "#Buscamos mejores parámetros\n",
    "exploring_params = {\n",
    "    'loss': ['hinge', 'log', 'modified_huber', 'squared_hinge', 'perceptron', 'squared_loss', 'huber', \n",
    "             'epsilon_insensitive', 'squared_epsilon_insensitive'], # Función de Pérdida\n",
    "    'penalty': ['l2', 'l1', 'elasticnet'], #Coef Regularizacion\n",
    "    'alpha': [1, 0.1, 0.01, 0.001, 0.0001, 0.00001],  # Tasa de regularización\n",
    "    'learning_rate': ['constant','optimal','invscaling','adaptive'],\n",
    "    'eta0': [1, 0.1, 0.01, 0.0001]  # Tasa de entrenamiento\n",
    "}\n",
    "\n",
    "modeloSGDC = SGDClassifier(random_state=5)\n",
    "mBsqda = GridSearchCV(modeloSGDC, exploring_params, cv=5, scoring='accuracy')\n",
    "mBsqda.fit(X_train_MJR, y_train_MJR)"
   ]
  },
  {
   "cell_type": "code",
   "execution_count": 243,
   "metadata": {},
   "outputs": [
    {
     "name": "stdout",
     "output_type": "stream",
     "text": [
      "Mejor conjunto de parámetros:\n",
      "{'alpha': 0.1, 'eta0': 0.01, 'learning_rate': 'invscaling', 'loss': 'epsilon_insensitive', 'penalty': 'l2'}\n",
      "\n",
      "Puntajes de la grilla:\n",
      "\n",
      "Exactitud: 0.36358 (+/-0.000) para los parámetros {'alpha': 0.1, 'eta0': 0.01, 'learning_rate': 'invscaling', 'loss': 'epsilon_insensitive', 'penalty': 'l2'}\n",
      "Exactitud: 0.36245 (+/-0.000) para los parámetros {'alpha': 0.01, 'eta0': 0.1, 'learning_rate': 'invscaling', 'loss': 'modified_huber', 'penalty': 'elasticnet'}\n",
      "Exactitud: 0.36330 (+/-0.000) para los parámetros {'alpha': 0.001, 'eta0': 0.01, 'learning_rate': 'invscaling', 'loss': 'epsilon_insensitive', 'penalty': 'l2'}\n",
      "Exactitud: 0.36302 (+/-0.000) para los parámetros {'alpha': 0.0001, 'eta0': 0.01, 'learning_rate': 'invscaling', 'loss': 'epsilon_insensitive', 'penalty': 'l2'}\n",
      "Exactitud: 0.36274 (+/-0.000) para los parámetros {'alpha': 1e-05, 'eta0': 0.01, 'learning_rate': 'invscaling', 'loss': 'epsilon_insensitive', 'penalty': 'elasticnet'}\n",
      "\n"
     ]
    }
   ],
   "source": [
    "print(\"Mejor conjunto de parámetros:\")\n",
    "print(mBsqda.best_params_, end=\"\\n\\n\")\n",
    "\n",
    "print(\"Puntajes de la grilla:\", end=\"\\n\\n\")\n",
    "means = mBsqda.cv_results_['mean_test_score']\n",
    "stds = mBsqda.cv_results_['std_test_score']\n",
    "for mean, std, params in zip(means, stds, mBsqda.cv_results_['params']):\n",
    "    if mean > 0.362:\n",
    "        print(\"Exactitud: %0.5f (+/-%0.03f) para los parámetros %r\" % (mean, std ** 2, params))\n",
    "print()"
   ]
  },
  {
   "cell_type": "code",
   "execution_count": 244,
   "metadata": {},
   "outputs": [
    {
     "name": "stdout",
     "output_type": "stream",
     "text": [
      "Datos Mejorados\n",
      "Exactitud para TRAIN: 0.3639\n",
      "Exactitud para TEST : 0.3577\n"
     ]
    }
   ],
   "source": [
    "#Entrenamos SDG con los parámetros optimizados\n",
    "modeloSGDC = SGDClassifier(random_state=5, **mBsqda.best_params_)\n",
    "modeloSGDC.fit(X_train_MJR, y_train_MJR) \n",
    "\n",
    "mostrar('Datos Mejorados', modeloSGDC, X_train_MJR, y_train_MJR, X_test_MJR, y_test_MJR)"
   ]
  },
  {
   "cell_type": "code",
   "execution_count": 245,
   "metadata": {},
   "outputs": [
    {
     "data": {
      "image/png": "[encoded data removed]",
      "text/plain": [
       "<Figure size 432x288 with 2 Axes>"
      ]
     },
     "metadata": {
      "needs_background": "light"
     },
     "output_type": "display_data"
    }
   ],
   "source": [
    "#Verifico cómo es la predicción de clases\n",
    "plot_confusion_matrix(confusion_matrix(y_test_TRN, modeloLR.predict(X_test_MJR)), classes=[0,1,2,3,4], title='LR')"
   ]
  },
  {
   "cell_type": "code",
   "execution_count": 248,
   "metadata": {},
   "outputs": [],
   "source": [
    "#Generamos un archivo para Kaggel con este modelo\n",
    "dtset_tst['AdoptionSpeed']=modeloSGDC.predict(transformar(dtset_tst))"
   ]
  },
  {
   "cell_type": "code",
   "execution_count": 249,
   "metadata": {},
   "outputs": [],
   "source": [
    "dtset_tst[ ['PID','AdoptionSpeed'] ].to_csv('kaggel/modeloSDG.csv', index=False)"
   ]
  },
  {
   "cell_type": "code",
   "execution_count": null,
   "metadata": {},
   "outputs": [],
   "source": []
  }
 ],
 "metadata": {
  "kernelspec": {
   "display_name": "Python 3",
   "language": "python",
   "name": "python3"
  },
  "language_info": {
   "codemirror_mode": {
    "name": "ipython",
    "version": 3
   },
   "file_extension": ".py",
   "mimetype": "text/x-python",
   "name": "python",
   "nbconvert_exporter": "python",
   "pygments_lexer": "ipython3",
   "version": "3.7.1"
  }
 },
 "nbformat": 4,
 "nbformat_minor": 2
}
